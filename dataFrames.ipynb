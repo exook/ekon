import pandas as pd 
import csv
    
DEBUG=1

nameList = pd.read_csv('data.csv',delimiter=';',skiprows=3,nrows=1).loc[0,:].values.tolist()[1:]
codeList = pd.read_csv('data.csv',delimiter=';',skiprows=4,nrows=1).loc[0,:].values.tolist()[1:]
cleanCodeList=[]
for i in range(0,len(codeList)):
  try:
   cleanCodeList.append(codeList[i].split("(")[0])
  except:
    if DEBUG: print("No name:",i," = ", codeList[i])
    pass
cleanCodeSet=set(cleanCodeList)

#dictionary = dict(zip(codeList,nameList))
#for key in dictionary:
#  print(key,' ------------------ ',dictionary[key])
#variableList=["P","UDDE","MV","WC08231","WC08366","WC05476",""]

data = pd.read_csv('data.csv',delimiter=';',skiprows=5) 
df = pd.DataFrame(data)

dfReturn = pd.DataFrame()
for code in cleanCodeSet:
  try:
    dfReturn[code+'(return)'] = df[code+"(P)"]+df[code+"(UDDE)"]
  except KeyError as err:
    if DEBUG: print("Missing variables: ", err)
    pass
print(dfReturn["W:SR@G(return)"])
#df2 = df[["W:SR@G(P)", "W:SR@G(UDDE)","W:SR@G(return)"]].copy()
